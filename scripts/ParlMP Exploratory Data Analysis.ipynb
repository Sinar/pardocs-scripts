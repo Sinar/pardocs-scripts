{
 "cells": [
  {
   "cell_type": "code",
   "execution_count": 3,
   "metadata": {
    "collapsed": true
   },
   "outputs": [],
   "source": [
    "import pickle\n",
    "import numpy as np\n",
    "import pandas as pd\n",
    "from fuzzywuzzy import fuzz\n",
    "import time"
   ]
  },
  {
   "cell_type": "code",
   "execution_count": 4,
   "metadata": {
    "collapsed": true
   },
   "outputs": [],
   "source": [
    "df = pickle.load(open('parlMP.p', 'rb'))"
   ]
  },
  {
   "cell_type": "code",
   "execution_count": 7,
   "metadata": {
    "collapsed": false
   },
   "outputs": [
    {
     "data": {
      "text/plain": [
       "ministry\n",
       "                                                                                     Tiong King Sing\n",
       "menteri belia dan sukan                                                        Takiyuddin Bin Hassan\n",
       "menteri dalam negeri                                                                Gobind Singh Deo\n",
       "menteri kemajuan luar bandar dan wilayah                                 Abdul Azeez Bin Abdul Rahim\n",
       "menteri kerja raya                                                                     Wong Sze Phin\n",
       "menteri kesejahteraan bandar perumahan dan kerajaan tempatan                            Nawawi Ahmad\n",
       "menteri kesihatan                                                                Julian Tan Kok Ping\n",
       "menteri kewangan                                                                   Tony Pua Kiam Wee\n",
       "menteri komunikasi dan multimedia                               Nik Mohamad Abduh Bin Nik Abdul Aziz\n",
       "menteri luar negeri                                                             Kamarudin Bin Jaffar\n",
       "menteri pelancongan dan kebudayaan                                                      Sim Tong Him\n",
       "menteri pembangunan wanita keluarga dan masyarakat                               Normala Abdul Samad\n",
       "menteri pendidikan                                                                Zairil Khir Johari\n",
       "menteri pendidikan tinggi                                                               Sim Tze Tzin\n",
       "menteri pengangkutan                                                              Khalid Abdul Samad\n",
       "menteri perdagangan antarabangsa dan industri                                           Ahmad Hamzah\n",
       "menteri perdagangan dalam negeri koperasi dan kepenggunaan                         Mansor Bin Othman\n",
       "menteri pertahanan                                                       Mohamad Imran Bin Abd Hamid\n",
       "menteri pertanian dan industri asas tani                                            Gooi Hsiao-Leung\n",
       "menteri perusahaan perladangan dan komoditi                                            Wong Ling Biu\n",
       "menteri sains teknologi dan inovasi                                            Mansor Bin Abd Rahman\n",
       "menteri sumber asli dan alam sekitar                                             Fuziah Binti Salleh\n",
       "menteri sumber manusia                                                     Abdullah Sani Abdul Hamid\n",
       "menteri tenaga teknologi hijau dan air                                         Che Rosli Bin Che Mat\n",
       "menteri wilayah persekutuan                                                            Tan Kee Kwong\n",
       "perdana menteri                                                                 Abdul Hadi Bin Awang\n",
       "Name: name, dtype: object"
      ]
     },
     "execution_count": 7,
     "metadata": {},
     "output_type": "execute_result"
    }
   ],
   "source": [
    "#Most active MP questioner for each ministry\n",
    "df.groupby('ministry')['name'].agg(lambda x: x.value_counts().index[0])"
   ]
  },
  {
   "cell_type": "code",
   "execution_count": 8,
   "metadata": {
    "collapsed": false
   },
   "outputs": [
    {
     "data": {
      "text/plain": [
       "name\n",
       "Aaron Ago Dagang                                                 menteri dalam negeri\n",
       "Abdul Azeez Bin Abdul Rahim                  menteri kemajuan luar bandar dan wilayah\n",
       "Abdul Ghapur Salleh                                                   perdana menteri\n",
       "Abdul Hadi Bin Awang                                                  perdana menteri\n",
       "Abdul Manan Ismail                                                    perdana menteri\n",
       "Abdullah Fauzi Bin Ahmad Razali                                       perdana menteri\n",
       "Abdullah Sani Abdul Hamid                                      menteri sumber manusia\n",
       "Ahmad Baihaki Bin Atiqullah                                           perdana menteri\n",
       "Ahmad Bin Bujang                                                 menteri dalam negeri\n",
       "Ahmad Fauzi Zahari                                                    perdana menteri\n",
       "Ahmad Hamzah                                                         menteri kewangan\n",
       "Ahmad Husni Mohamad Hanadzlah                                        menteri kewangan\n",
       "Ahmad Jazlan Bin Yaakub                                            menteri pendidikan\n",
       "Ahmad Marzuk Bin Shaary                                               perdana menteri\n",
       "Ahmad Nawawi Bin M.Zin                                           menteri dalam negeri\n",
       "Ahmad Nazlan Bin Idris                                             menteri pendidikan\n",
       "Ali Mohamed                                                          menteri kewangan\n",
       "Alice Lau Kiong Yieng                                            menteri dalam negeri\n",
       "Annuar Bin Musa                                                       perdana menteri\n",
       "Anwar Ibrahim                                                         perdana menteri\n",
       "Anyi Ngau                                                          menteri pendidikan\n",
       "Ariff Sabri Abd Aziz                                                 menteri kewangan\n",
       "Azalina Othman Said                                              menteri dalam negeri\n",
       "Azan Bin Ismail                                                       perdana menteri\n",
       "Azman Bin Ismail                                                   menteri pertahanan\n",
       "Baharuddin Bin Ahmad                                                 menteri kewangan\n",
       "Budiman Bin Mohd Zohdi                             menteri pelancongan dan kebudayaan\n",
       "Bung Mokhtar Radin                                                   menteri kewangan\n",
       "Charles Anthony A/L R. Santiago                                       perdana menteri\n",
       "Che Mohamad Zulkifly Bin Jusoh                                   menteri dalam negeri\n",
       "                                                               ...                   \n",
       "Su Keong Siong                                                        perdana menteri\n",
       "Sulaiman Bin Haji Abdul Razak                                        menteri kewangan\n",
       "Takiyuddin Bin Hassan                                                 perdana menteri\n",
       "Tan Kee Kwong                                             menteri wilayah persekutuan\n",
       "Tan Kok Wai                                                           perdana menteri\n",
       "Tan Seng Giaw                                                    menteri dalam negeri\n",
       "Teo Kok Seong                                                      menteri pendidikan\n",
       "Teo Nie Ching                                                         perdana menteri\n",
       "Teresa Kok Suh Sim                                               menteri dalam negeri\n",
       "Tiong King Sing                                                      menteri kewangan\n",
       "Tony Pua Kiam Wee                                                    menteri kewangan\n",
       "Tsen Thau Lin                                                        menteri kewangan\n",
       "Wan Azizah Wan Ismail                                                 perdana menteri\n",
       "Wan Hassan Mohd Ramli                                            menteri dalam negeri\n",
       "Wan Mohammad Khair-Il Anuar Bin Wan Ahmad                            menteri kewangan\n",
       "Wee Jeck Seng                                                        menteri kewangan\n",
       "Wee Ka Siong                                                       menteri pendidikan\n",
       "Wilfred Madius Tangau                                                 perdana menteri\n",
       "William Leong Jee Keen                                           menteri dalam negeri\n",
       "William Mawan Ikom                                                   menteri kewangan\n",
       "William Nyallau Badak                                                 perdana menteri\n",
       "Wilson Ugak Kumbong                                              menteri dalam negeri\n",
       "Wong Chen                                                            menteri kewangan\n",
       "Wong Ling Biu                                                      menteri pendidikan\n",
       "Wong Sze Phin                                                         perdana menteri\n",
       "Wong Tien Fatt                                                       menteri kewangan\n",
       "Zahidi Bin Zainul Abidin                                              perdana menteri\n",
       "Zainudin Ismail                                                       perdana menteri\n",
       "Zairil Khir Johari                                                 menteri pendidikan\n",
       "Zuraida Kamaruddin                                               menteri dalam negeri\n",
       "Name: ministry, dtype: object"
      ]
     },
     "execution_count": 8,
     "metadata": {},
     "output_type": "execute_result"
    }
   ],
   "source": [
    "#Most common ministry asked by each MP\n",
    "df.groupby('name')['ministry'].agg(lambda x: x.value_counts().index[0])"
   ]
  },
  {
   "cell_type": "code",
   "execution_count": 9,
   "metadata": {
    "collapsed": false
   },
   "outputs": [
    {
     "data": {
      "text/plain": [
       "Nga Kor Ming                           81\n",
       "Teresa Kok Suh Sim                     75\n",
       "Wong Chen                              75\n",
       "Fauzi Bin Abdul Rahman                 73\n",
       "Takiyuddin Bin Hassan                  73\n",
       "Sim Tong Him                           71\n",
       "Tony Pua Kiam Wee                      71\n",
       "Fong Kui Lun                           71\n",
       "Er Teck Hwa                            70\n",
       "Abdul Hadi Bin Awang                   69\n",
       "Kasthuriraani Patto                    69\n",
       "Loke Siew Fook                         68\n",
       "Teo Kok Seong                          67\n",
       "Mahfuz Haji Omar                       66\n",
       "Oscar Ling Chai Yew                    66\n",
       "Zairil Khir Johari                     65\n",
       "Ngeh Koo Ham                           65\n",
       "Ariff Sabri Abd Aziz                   65\n",
       "Siti Zailah Binti Mohd Yusoff          64\n",
       "Lim Lip Eng                            63\n",
       "Tan Kee Kwong                          63\n",
       "Mansor Bin Othman                      63\n",
       "Nasrudin Bin Hassan                    63\n",
       "Ignatius Dorell Leiking                62\n",
       "Ahmad Bin Bujang                       62\n",
       "Gobind Singh Deo                       62\n",
       "Ong Kian Ming                          62\n",
       "Ko Chung Sen                           62\n",
       "Juslie Ajirol                          62\n",
       "Lim Guan Eng                           61\n",
       "                                       ..\n",
       "Hasan Arifin                           15\n",
       "Nogeh Anak Gumbek                      15\n",
       "Chua Tee Yong                          14\n",
       "Shaharuddin Bin Ismail                 14\n",
       "William Mawan Ikom                     12\n",
       "Wee Ka Siong                           11\n",
       "Michael Teo Yu Keng                    10\n",
       "Masir Kujat                            10\n",
       "Bung Mokhtar Radin                      9\n",
       "Liow Tiong Lai                          8\n",
       "Budiman Bin Mohd Zohdi                  8\n",
       "Mastura Mohd Yazid                      8\n",
       "Baharuddin Bin Ahmad                    8\n",
       "Ahmad Husni Mohamad Hanadzlah           7\n",
       "Douglas Uggah Embas                     6\n",
       "Muhamad Idris Bin Ahmad                 4\n",
       "Mohd Ariff Sabri Bin Abdul Aziz         4\n",
       "Muhyiddin Yassin                        3\n",
       "Jagdeep Singh Deo A/L Karpal Singh      3\n",
       "Azman Bin Ismail                        2\n",
       "Seah Leong Peng                         2\n",
       "Ahmad Nawawi Bin M.Zin                  2\n",
       "Ramkarpal Singh  A/L Karpal Singh       1\n",
       "Muhammad Leo Michael Toyad Abdullah     1\n",
       "Norah Abdul Rahman                      1\n",
       "Mohamad Bin Alamin                      1\n",
       "Datuk Kamaruddin Jaafar                 1\n",
       "Mazlan Ahmad                            1\n",
       "Abdullah Fauzi Bin Ahmad Razali         1\n",
       "Imran Bin Abdul Rahman                  1\n",
       "Name: name, dtype: int64"
      ]
     },
     "execution_count": 9,
     "metadata": {},
     "output_type": "execute_result"
    }
   ],
   "source": [
    "#Most active MPs\n",
    "df['name'].value_counts()"
   ]
  },
  {
   "cell_type": "code",
   "execution_count": 11,
   "metadata": {
    "collapsed": false
   },
   "outputs": [
    {
     "data": {
      "text/plain": [
       "perdana menteri                                                 2444\n",
       "menteri dalam negeri                                            1417\n",
       "menteri kewangan                                                1278\n",
       "menteri pendidikan                                               884\n",
       "                                                                 710\n",
       "menteri kesihatan                                                684\n",
       "menteri pertanian dan industri asas tani                         473\n",
       "menteri perdagangan dalam negeri koperasi dan kepenggunaan       366\n",
       "menteri sumber asli dan alam sekitar                             360\n",
       "menteri perdagangan antarabangsa dan industri                    350\n",
       "menteri sumber manusia                                           322\n",
       "menteri kerja raya                                               297\n",
       "menteri pelancongan dan kebudayaan                               291\n",
       "menteri pembangunan wanita keluarga dan masyarakat               278\n",
       "menteri tenaga teknologi hijau dan air                           277\n",
       "menteri kemajuan luar bandar dan wilayah                         250\n",
       "menteri pertahanan                                               234\n",
       "menteri belia dan sukan                                          224\n",
       "menteri luar negeri                                              174\n",
       "menteri wilayah persekutuan                                      142\n",
       "menteri perusahaan perladangan dan komoditi                      135\n",
       "menteri pendidikan tinggi                                         71\n",
       "menteri komunikasi dan multimedia                                 62\n",
       "menteri pengangkutan                                              30\n",
       "menteri kesejahteraan bandar perumahan dan kerajaan tempatan      26\n",
       "menteri sains teknologi dan inovasi                                6\n",
       "Name: ministry, dtype: int64"
      ]
     },
     "execution_count": 11,
     "metadata": {},
     "output_type": "execute_result"
    }
   ],
   "source": [
    "#Most popular ministries\n",
    "df['ministry'].value_counts()"
   ]
  },
  {
   "cell_type": "code",
   "execution_count": 120,
   "metadata": {
    "collapsed": false
   },
   "outputs": [],
   "source": [
    "#Get ministry distribution\n",
    "\n",
    "data = []\n",
    "groupMinistry = df1.groupby('ministry')\n",
    "\n",
    "for ministry in df1.ministry.unique():\n",
    "    ministerValCount = groupMinistry.get_group(ministry)['minister'].value_counts()\n",
    "    for i in range(len(ministerValCount)):\n",
    "        entry= {}\n",
    "        entry['ministry'] = ministry\n",
    "        entry['minister'] = ministerValCount.keys()[i]\n",
    "        entry['count'] = int(ministerValCount[i])\n",
    "        data.append(entry)\n",
    "\n",
    "        \n",
    "import json\n",
    "with open('../d3_viz/data/parlMP.json', 'w') as outfile:\n",
    "    json.dump(data, outfile)    \n",
    "    "
   ]
  }
 ],
 "metadata": {
  "anaconda-cloud": {},
  "kernelspec": {
   "display_name": "Python [conda root]",
   "language": "python",
   "name": "conda-root-py"
  },
  "language_info": {
   "codemirror_mode": {
    "name": "ipython",
    "version": 3
   },
   "file_extension": ".py",
   "mimetype": "text/x-python",
   "name": "python",
   "nbconvert_exporter": "python",
   "pygments_lexer": "ipython3",
   "version": "3.5.2"
  }
 },
 "nbformat": 4,
 "nbformat_minor": 1
}
